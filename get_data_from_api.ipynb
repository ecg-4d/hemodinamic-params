{
 "cells": [
  {
   "cell_type": "code",
   "execution_count": 21,
   "metadata": {},
   "outputs": [
    {
     "name": "stdout",
     "output_type": "stream",
     "text": [
      "Requirement already satisfied: ray in /home/fpiedrah/.anaconda/envs/Hemodinamic/lib/python3.7/site-packages (0.7.6)\n",
      "Requirement already satisfied: pandas in /home/fpiedrah/.anaconda/envs/Hemodinamic/lib/python3.7/site-packages (0.25.3)\n",
      "Requirement already satisfied: requests in /home/fpiedrah/.anaconda/envs/Hemodinamic/lib/python3.7/site-packages (2.22.0)\n",
      "Requirement already satisfied: jsonschema in /home/fpiedrah/.anaconda/envs/Hemodinamic/lib/python3.7/site-packages (from ray) (3.2.0)\n",
      "Requirement already satisfied: protobuf>=3.8.0 in /home/fpiedrah/.anaconda/envs/Hemodinamic/lib/python3.7/site-packages (from ray) (3.11.1)\n",
      "Requirement already satisfied: six>=1.0.0 in /home/fpiedrah/.anaconda/envs/Hemodinamic/lib/python3.7/site-packages (from ray) (1.13.0)\n",
      "Requirement already satisfied: redis>=3.3.2 in /home/fpiedrah/.anaconda/envs/Hemodinamic/lib/python3.7/site-packages (from ray) (3.3.11)\n",
      "Requirement already satisfied: funcsigs in /home/fpiedrah/.anaconda/envs/Hemodinamic/lib/python3.7/site-packages (from ray) (1.0.2)\n",
      "Requirement already satisfied: colorama in /home/fpiedrah/.anaconda/envs/Hemodinamic/lib/python3.7/site-packages (from ray) (0.4.3)\n",
      "Requirement already satisfied: numpy>=1.14 in /home/fpiedrah/.anaconda/envs/Hemodinamic/lib/python3.7/site-packages (from ray) (1.17.4)\n",
      "Requirement already satisfied: click in /home/fpiedrah/.anaconda/envs/Hemodinamic/lib/python3.7/site-packages (from ray) (7.0)\n",
      "Requirement already satisfied: pytest in /home/fpiedrah/.anaconda/envs/Hemodinamic/lib/python3.7/site-packages (from ray) (5.3.2)\n",
      "Requirement already satisfied: filelock in /home/fpiedrah/.anaconda/envs/Hemodinamic/lib/python3.7/site-packages (from ray) (3.0.12)\n",
      "Requirement already satisfied: pyyaml in /home/fpiedrah/.anaconda/envs/Hemodinamic/lib/python3.7/site-packages (from ray) (5.2)\n",
      "Requirement already satisfied: python-dateutil>=2.6.1 in /home/fpiedrah/.anaconda/envs/Hemodinamic/lib/python3.7/site-packages (from pandas) (2.8.1)\n",
      "Requirement already satisfied: pytz>=2017.2 in /home/fpiedrah/.anaconda/envs/Hemodinamic/lib/python3.7/site-packages (from pandas) (2019.3)\n",
      "Requirement already satisfied: idna<2.9,>=2.5 in /home/fpiedrah/.anaconda/envs/Hemodinamic/lib/python3.7/site-packages (from requests) (2.8)\n",
      "Requirement already satisfied: certifi>=2017.4.17 in /home/fpiedrah/.anaconda/envs/Hemodinamic/lib/python3.7/site-packages (from requests) (2019.11.28)\n",
      "Requirement already satisfied: urllib3!=1.25.0,!=1.25.1,<1.26,>=1.21.1 in /home/fpiedrah/.anaconda/envs/Hemodinamic/lib/python3.7/site-packages (from requests) (1.25.7)\n",
      "Requirement already satisfied: chardet<3.1.0,>=3.0.2 in /home/fpiedrah/.anaconda/envs/Hemodinamic/lib/python3.7/site-packages (from requests) (3.0.4)\n",
      "Requirement already satisfied: importlib-metadata; python_version < \"3.8\" in /home/fpiedrah/.anaconda/envs/Hemodinamic/lib/python3.7/site-packages (from jsonschema->ray) (1.3.0)\n",
      "Requirement already satisfied: attrs>=17.4.0 in /home/fpiedrah/.anaconda/envs/Hemodinamic/lib/python3.7/site-packages (from jsonschema->ray) (19.3.0)\n",
      "Requirement already satisfied: setuptools in /home/fpiedrah/.anaconda/envs/Hemodinamic/lib/python3.7/site-packages (from jsonschema->ray) (42.0.2.post20191203)\n",
      "Requirement already satisfied: pyrsistent>=0.14.0 in /home/fpiedrah/.anaconda/envs/Hemodinamic/lib/python3.7/site-packages (from jsonschema->ray) (0.15.6)\n",
      "Requirement already satisfied: py>=1.5.0 in /home/fpiedrah/.anaconda/envs/Hemodinamic/lib/python3.7/site-packages (from pytest->ray) (1.8.0)\n",
      "Requirement already satisfied: more-itertools>=4.0.0 in /home/fpiedrah/.anaconda/envs/Hemodinamic/lib/python3.7/site-packages (from pytest->ray) (8.0.2)\n",
      "Requirement already satisfied: pluggy<1.0,>=0.12 in /home/fpiedrah/.anaconda/envs/Hemodinamic/lib/python3.7/site-packages (from pytest->ray) (0.13.1)\n",
      "Requirement already satisfied: wcwidth in /home/fpiedrah/.anaconda/envs/Hemodinamic/lib/python3.7/site-packages (from pytest->ray) (0.1.7)\n",
      "Requirement already satisfied: packaging in /home/fpiedrah/.anaconda/envs/Hemodinamic/lib/python3.7/site-packages (from pytest->ray) (19.2)\n",
      "Requirement already satisfied: zipp>=0.5 in /home/fpiedrah/.anaconda/envs/Hemodinamic/lib/python3.7/site-packages (from importlib-metadata; python_version < \"3.8\"->jsonschema->ray) (0.6.0)\n",
      "Requirement already satisfied: pyparsing>=2.0.2 in /home/fpiedrah/.anaconda/envs/Hemodinamic/lib/python3.7/site-packages (from packaging->pytest->ray) (2.4.5)\n"
     ]
    }
   ],
   "source": [
    "! pip install ray pandas requests"
   ]
  },
  {
   "cell_type": "code",
   "execution_count": 22,
   "metadata": {
    "papermill": {
     "duration": 0.57757,
     "end_time": "2019-12-14T17:24:22.118862",
     "exception": false,
     "start_time": "2019-12-14T17:24:21.541292",
     "status": "completed"
    },
    "tags": []
   },
   "outputs": [],
   "source": [
    "import ray\n",
    "import pandas\n",
    "import requests\n",
    "\n",
    "from typing import Dict"
   ]
  },
  {
   "cell_type": "code",
   "execution_count": 2,
   "metadata": {
    "papermill": {
     "duration": 0.41146,
     "end_time": "2019-12-14T17:24:22.534076",
     "exception": false,
     "start_time": "2019-12-14T17:24:22.122616",
     "status": "completed"
    },
    "tags": []
   },
   "outputs": [
    {
     "name": "stderr",
     "output_type": "stream",
     "text": [
      "2019-12-15 09:47:28,265\tINFO resource_spec.py:205 -- Starting Ray with 1.86 GiB memory available for workers and up to 0.93 GiB for objects. You can adjust these settings with ray.init(memory=<bytes>, object_store_memory=<bytes>).\n"
     ]
    }
   ],
   "source": [
    "# Configurate libraries\n",
    "_ = ray.init()"
   ]
  },
  {
   "cell_type": "code",
   "execution_count": 11,
   "metadata": {
    "tags": [
     "parameters"
    ]
   },
   "outputs": [],
   "source": [
    "# This are the paramenters used for the script\n",
    "base_url = \"http://sicorresultadosapi.integ.ro\"\n",
    "\n",
    "auth_end_point = \"/login\"\n",
    "api_username = \"\"\n",
    "api_password = \"\"\n",
    "\n",
    "map_meta_end_point = \"/get_mapa\"\n",
    "map_data_end_point = \"/MAPA\"\n",
    "medicaments_end_points = \"/medicamentos\"\n",
    "\n",
    "start_patient_id = 12760\n",
    "end_patient_id = 12766"
   ]
  },
  {
   "cell_type": "code",
   "execution_count": 12,
   "metadata": {},
   "outputs": [],
   "source": [
    "auth_url = f\"{base_url}{auth_end_point}\"\n",
    "map_meta_url = f\"{base_url}{map_meta_end_point}\"\n",
    "map_data_url = f\"{base_url}{map_data_end_point}\"\n",
    "medicaments_url = f\"{base_url}{medicaments_end_points}\""
   ]
  },
  {
   "cell_type": "code",
   "execution_count": 13,
   "metadata": {
    "papermill": {
     "duration": 0.021793,
     "end_time": "2019-12-14T17:24:22.613843",
     "exception": false,
     "start_time": "2019-12-14T17:24:22.592050",
     "status": "completed"
    },
    "tags": []
   },
   "outputs": [],
   "source": [
    "def authenticate_api(url: str, username: str, password: str) -> Dict:\n",
    "    payload = {\n",
    "        \"user\": username,\n",
    "        \"password\": password,\n",
    "    }\n",
    "    \n",
    "    response = requests.post(url, data=payload)\n",
    "    \n",
    "    return response.json()['res']"
   ]
  },
  {
   "cell_type": "code",
   "execution_count": 14,
   "metadata": {
    "papermill": {
     "duration": 0.020066,
     "end_time": "2019-12-14T17:24:22.640708",
     "exception": false,
     "start_time": "2019-12-14T17:24:22.620642",
     "status": "completed"
    },
    "tags": []
   },
   "outputs": [],
   "source": [
    "def get_data(url:str, token: str, patient_id: int) -> Dict:\n",
    "    url = (url + \"/{patient_id}/\").format(patient_id=patient_id)\n",
    "   \n",
    "    response = requests.get(\n",
    "        url,\n",
    "        headers = {\n",
    "            \"authorization\": f\"Bearer {token}\",\n",
    "        },\n",
    "    )\n",
    "    \n",
    "    return response.json()"
   ]
  },
  {
   "cell_type": "code",
   "execution_count": 15,
   "metadata": {
    "papermill": {
     "duration": 0.006718,
     "end_time": "2019-12-14T17:24:22.655091",
     "exception": false,
     "start_time": "2019-12-14T17:24:22.648373",
     "status": "completed"
    },
    "tags": []
   },
   "outputs": [],
   "source": [
    "@ray.remote\n",
    "def get_data_async(username: str, password: str, patient_id: int) -> Dict:\n",
    "    token = authenticate_api(auth_url, username, password)\n",
    "    \n",
    "    map_meta_data = get_data(map_meta_url, token, patient_id)\n",
    "    map_data = get_data(map_data_url, token, patient_id)\n",
    "    meds_data = get_data(medicaments_url, token, patient_id)\n",
    "    \n",
    "    return {\n",
    "        'map_meta_data': map_meta_data,\n",
    "        'map_data': map_data,\n",
    "        'medicaments_url': meds_data,\n",
    "    }"
   ]
  },
  {
   "cell_type": "code",
   "execution_count": 16,
   "metadata": {},
   "outputs": [],
   "source": [
    "futures = [get_data_async.remote(api_username, api_password, patient_id) for patient_id in range(start_patient_id, end_patient_id)]\n",
    "api_data = ray.get(futures)"
   ]
  },
  {
   "cell_type": "code",
   "execution_count": null,
   "metadata": {},
   "outputs": [],
   "source": []
  }
 ],
 "metadata": {
  "kernelspec": {
   "display_name": "Python 3",
   "language": "python",
   "name": "python3"
  },
  "language_info": {
   "codemirror_mode": {
    "name": "ipython",
    "version": 3
   },
   "file_extension": ".py",
   "mimetype": "text/x-python",
   "name": "python",
   "nbconvert_exporter": "python",
   "pygments_lexer": "ipython3",
   "version": "3.7.5"
  },
  "papermill": {
   "duration": 2.785627,
   "end_time": "2019-12-14T17:24:23.670680",
   "environment_variables": {},
   "exception": null,
   "input_path": "Untitled.ipynb",
   "output_path": "out",
   "parameters": {
    "api_username": "data"
   },
   "start_time": "2019-12-14T17:24:20.885053",
   "version": "1.2.1"
  }
 },
 "nbformat": 4,
 "nbformat_minor": 4
}
