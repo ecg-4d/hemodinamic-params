{
 "cells": [
  {
   "cell_type": "code",
   "execution_count": 1,
   "metadata": {
    "papermill": {
     "duration": 0.57757,
     "end_time": "2019-12-14T17:24:22.118862",
     "exception": false,
     "start_time": "2019-12-14T17:24:21.541292",
     "status": "completed"
    },
    "tags": []
   },
   "outputs": [],
   "source": [
    "import ray\n",
    "import pandas\n",
    "import requests\n",
    "\n",
    "from typing import Dict"
   ]
  },
  {
   "cell_type": "code",
   "execution_count": 2,
   "metadata": {
    "papermill": {
     "duration": 0.41146,
     "end_time": "2019-12-14T17:24:22.534076",
     "exception": false,
     "start_time": "2019-12-14T17:24:22.122616",
     "status": "completed"
    },
    "tags": []
   },
   "outputs": [
    {
     "name": "stderr",
     "output_type": "stream",
     "text": [
      "2019-12-15 09:47:28,265\tINFO resource_spec.py:205 -- Starting Ray with 1.86 GiB memory available for workers and up to 0.93 GiB for objects. You can adjust these settings with ray.init(memory=<bytes>, object_store_memory=<bytes>).\n"
     ]
    }
   ],
   "source": [
    "# Configurate libraries\n",
    "_ = ray.init()"
   ]
  },
  {
   "cell_type": "code",
   "execution_count": 11,
   "metadata": {
    "tags": [
     "parameters"
    ]
   },
   "outputs": [],
   "source": [
    "# This are the paramenters used for the script\n",
    "base_url = \"http://sicorresultadosapi.integ.ro\"\n",
    "\n",
    "auth_end_point = \"/login\"\n",
    "api_username = \"\"\n",
    "api_password = \"\"\n",
    "\n",
    "map_meta_end_point = \"/get_mapa\"\n",
    "map_data_end_point = \"/MAPA\"\n",
    "medicaments_end_points = \"/medicamentos\"\n",
    "\n",
    "start_patient_id = 12760\n",
    "end_patient_id = 12766"
   ]
  },
  {
   "cell_type": "code",
   "execution_count": 12,
   "metadata": {},
   "outputs": [],
   "source": [
    "auth_url = f\"{base_url}{auth_end_point}\"\n",
    "map_meta_url = f\"{base_url}{map_meta_end_point}\"\n",
    "map_data_url = f\"{base_url}{map_data_end_point}\"\n",
    "medicaments_url = f\"{base_url}{medicaments_end_points}\""
   ]
  },
  {
   "cell_type": "code",
   "execution_count": 13,
   "metadata": {
    "papermill": {
     "duration": 0.021793,
     "end_time": "2019-12-14T17:24:22.613843",
     "exception": false,
     "start_time": "2019-12-14T17:24:22.592050",
     "status": "completed"
    },
    "tags": []
   },
   "outputs": [],
   "source": [
    "def authenticate_api(url: str, username: str, password: str) -> Dict:\n",
    "    payload = {\n",
    "        \"user\": username,\n",
    "        \"password\": password,\n",
    "    }\n",
    "    \n",
    "    response = requests.post(url, data=payload)\n",
    "    \n",
    "    return response.json()['res']"
   ]
  },
  {
   "cell_type": "code",
   "execution_count": 14,
   "metadata": {
    "papermill": {
     "duration": 0.020066,
     "end_time": "2019-12-14T17:24:22.640708",
     "exception": false,
     "start_time": "2019-12-14T17:24:22.620642",
     "status": "completed"
    },
    "tags": []
   },
   "outputs": [],
   "source": [
    "def get_data(url:str, token: str, patient_id: int) -> Dict:\n",
    "    url = (url + \"/{patient_id}/\").format(patient_id=patient_id)\n",
    "   \n",
    "    response = requests.get(\n",
    "        url,\n",
    "        headers = {\n",
    "            \"authorization\": f\"Bearer {token}\",\n",
    "        },\n",
    "    )\n",
    "    \n",
    "    return response.json()"
   ]
  },
  {
   "cell_type": "code",
   "execution_count": 15,
   "metadata": {
    "papermill": {
     "duration": 0.006718,
     "end_time": "2019-12-14T17:24:22.655091",
     "exception": false,
     "start_time": "2019-12-14T17:24:22.648373",
     "status": "completed"
    },
    "tags": []
   },
   "outputs": [],
   "source": [
    "@ray.remote\n",
    "def get_data_async(username: str, password: str, patient_id: int) -> Dict:\n",
    "    token = authenticate_api(auth_url, username, password)\n",
    "    \n",
    "    map_meta_data = get_data(map_meta_url, token, patient_id)\n",
    "    map_data = get_data(map_data_url, token, patient_id)\n",
    "    meds_data = get_data(medicaments_url, token, patient_id)\n",
    "    \n",
    "    return {\n",
    "        'map_meta_data': map_meta_data,\n",
    "        'map_data': map_data,\n",
    "        'medicaments_url': meds_data,\n",
    "    }"
   ]
  },
  {
   "cell_type": "code",
   "execution_count": 16,
   "metadata": {},
   "outputs": [],
   "source": [
    "futures = [get_data_async.remote(api_username, api_password, patient_id) for patient_id in range(start_patient_id, end_patient_id)]\n",
    "api_data = ray.get(futures)"
   ]
  },
  {
   "cell_type": "code",
   "execution_count": null,
   "metadata": {},
   "outputs": [],
   "source": []
  }
 ],
 "metadata": {
  "kernelspec": {
   "display_name": "Python 3",
   "language": "python",
   "name": "python3"
  },
  "language_info": {
   "codemirror_mode": {
    "name": "ipython",
    "version": 3
   },
   "file_extension": ".py",
   "mimetype": "text/x-python",
   "name": "python",
   "nbconvert_exporter": "python",
   "pygments_lexer": "ipython3",
   "version": "3.7.5"
  },
  "papermill": {
   "duration": 2.785627,
   "end_time": "2019-12-14T17:24:23.670680",
   "environment_variables": {},
   "exception": null,
   "input_path": "Untitled.ipynb",
   "output_path": "out",
   "parameters": {
    "api_username": "data"
   },
   "start_time": "2019-12-14T17:24:20.885053",
   "version": "1.2.1"
  }
 },
 "nbformat": 4,
 "nbformat_minor": 4
}
