{
 "cells": [
  {
   "cell_type": "code",
   "execution_count": null,
   "metadata": {},
   "outputs": [],
   "source": [
    "%%capture\n",
    "\n",
    "%pip install pandas"
   ]
  },
  {
   "cell_type": "code",
   "execution_count": null,
   "metadata": {},
   "outputs": [],
   "source": [
    "api_data_path = \"./api-data/\""
   ]
  },
  {
   "cell_type": "code",
   "execution_count": null,
   "metadata": {},
   "outputs": [],
   "source": [
    "import os\n",
    "import glob\n",
    "import json\n",
    "\n",
    "patient_files = glob.glob(os.path.join(api_data_path, \"*.json\"))\n",
    "patient_data = [\n",
    "    json.loads(open(file, \"r\").read()) for file in patient_files\n",
    "]"
   ]
  },
  {
   "cell_type": "code",
   "execution_count": null,
   "metadata": {},
   "outputs": [],
   "source": [
    "import pandas\n",
    "\n",
    "data = []\n",
    "\n",
    "for patient in patient_data:    \n",
    "    patient_id = patient[\"id\"]\n",
    "\n",
    "    birth_date = patient[\"meta_data\"][0][\"fecha_nacimiento\"]\n",
    "    start_date = patient[\"meta_data\"][0][\"fecha_inicio\"]\n",
    "\n",
    "    start_night = patient[\"meta_data\"][0][\"inicio_noche\"]\n",
    "    end_night = patient[\"meta_data\"][0][\"fin_noche\"]\n",
    "\n",
    "    gender = patient[\"meta_data\"][0][\"genero\"]\n",
    "    height = patient[\"meta_data\"][0][\"talla\"]\n",
    "    weight = patient[\"meta_data\"][0][\"peso\"]\n",
    "\n",
    "    data.append([patient_id, birth_date, start_date, start_night, end_night, gender, height, weight])\n",
    "    \n",
    "\n",
    "meta_data_df = pandas.DataFrame(\n",
    "    data, \n",
    "    columns=[\n",
    "        \"patient_id\", \n",
    "        \"birth_date\", \n",
    "        \"start_date\", \n",
    "        \"start_night\", \n",
    "        \"end_night\", \n",
    "        \"gender\", \n",
    "        \"height\", \n",
    "        \"weight\"\n",
    "    ]\n",
    ")\n",
    "\n",
    "meta_data_df.set_index(\"patient_id\", inplace=True)\n",
    "meta_data_df"
   ]
  },
  {
   "cell_type": "code",
   "execution_count": null,
   "metadata": {},
   "outputs": [],
   "source": [
    "data = []\n",
    "\n",
    "for patient in patient_data:   \n",
    "    patient_id = patient[\"id\"]\n",
    "    \n",
    "    for measure in patient[\"data\"]:\n",
    "        measure_date_time = measure[\"fecha_dt\"]\n",
    "        sistolic = measure[\"sistolica\"]\n",
    "        diastolic = measure[\"diastolica\"]\n",
    "        heart_reate = measure[\"valor\"]\n",
    "        \n",
    "        data.append([patient_id, measure_date_time, sistolic, diastolic, heart_reate])\n",
    "        \n",
    "        \n",
    "measure_df = pandas.DataFrame(\n",
    "    data, \n",
    "    columns=[\n",
    "        \"patient_id\",\n",
    "        \"measure_date_time\", \n",
    "        \"sistolic\", \n",
    "        \"diastolic\", \n",
    "        \"heart_reate\",\n",
    "    ]\n",
    ")\n",
    "\n",
    "measure_df.set_index(\"patient_id\", inplace=True)\n",
    "measure_df"
   ]
  },
  {
   "cell_type": "code",
   "execution_count": null,
   "metadata": {},
   "outputs": [],
   "source": [
    "patient_df = pandas.merge(\n",
    "    meta_data_df, \n",
    "    measure_df, \n",
    "    how=\"inner\", \n",
    "    left_index=True, \n",
    "    right_index=True\n",
    ")\n",
    "\n",
    "patient_df"
   ]
  }
 ],
 "metadata": {
  "kernelspec": {
   "display_name": "Python 3",
   "language": "python",
   "name": "python3"
  },
  "language_info": {
   "codemirror_mode": {
    "name": "ipython",
    "version": 3
   },
   "file_extension": ".py",
   "mimetype": "text/x-python",
   "name": "python",
   "nbconvert_exporter": "python",
   "pygments_lexer": "ipython3",
   "version": "3.7.6"
  }
 },
 "nbformat": 4,
 "nbformat_minor": 4
}
