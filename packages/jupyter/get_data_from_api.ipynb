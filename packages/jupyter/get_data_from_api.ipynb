{
 "cells": [
  {
   "cell_type": "markdown",
   "metadata": {},
   "source": [
    "## Dependencies"
   ]
  },
  {
   "cell_type": "code",
   "execution_count": null,
   "metadata": {},
   "outputs": [],
   "source": [
    "%%capture\n",
    "\n",
    "%pip install ray[all] requests"
   ]
  },
  {
   "cell_type": "code",
   "execution_count": null,
   "metadata": {},
   "outputs": [],
   "source": [
    "import os\n",
    "import ray\n",
    "import datetime\n",
    "import requests\n",
    "\n",
    "# IPython tools\n",
    "from IPython.display import clear_output"
   ]
  },
  {
   "cell_type": "code",
   "execution_count": null,
   "metadata": {},
   "outputs": [],
   "source": [
    "_ = ray.init(redis_max_memory=10**9, object_store_memory=7.8**9)"
   ]
  },
  {
   "cell_type": "markdown",
   "metadata": {},
   "source": [
    "## Parameters"
   ]
  },
  {
   "cell_type": "code",
   "execution_count": null,
   "metadata": {
    "tags": [
     "parameters"
    ]
   },
   "outputs": [],
   "source": [
    "api_url = \"https://apimapa.sicor.com.co\"\n",
    "api_username = \"\"\n",
    "api_password = \"\"\n",
    "\n",
    "test_patient_id = 5331\n",
    "\n",
    "pull_data_end_date = \"2017-11-07\"\n",
    "\n",
    "concurrent_workers = 100\n",
    "max_consecutive_error = 150\n",
    "api_data_save_path = \"./api-data/\"\n",
    "api_error_save_path = \"./ERROR\""
   ]
  },
  {
   "cell_type": "markdown",
   "metadata": {},
   "source": [
    "## Build URLs"
   ]
  },
  {
   "cell_type": "code",
   "execution_count": null,
   "metadata": {},
   "outputs": [],
   "source": [
    "import urllib.parse\n",
    "\n",
    "\n",
    "auth_url = urllib.parse.urljoin(api_url, \"login\")\n",
    "map_meta_data_url = urllib.parse.urljoin(api_url, \"get_mapa/\") \n",
    "map_data_url = urllib.parse.urljoin(api_url, \"tabla_mediciones/\")\n",
    "map_measure_url = urllib.parse.urljoin(api_url, \"MAPA/\")\n",
    "map_drug_url = urllib.parse.urljoin(api_url, \"medicamentos/\")\n",
    "\n",
    "pull_data_end_date = datetime.datetime.strptime(pull_data_end_date, \"%Y-%m-%d\")"
   ]
  },
  {
   "cell_type": "markdown",
   "metadata": {},
   "source": [
    "## Get latest patient Id"
   ]
  },
  {
   "cell_type": "code",
   "execution_count": null,
   "metadata": {},
   "outputs": [],
   "source": [
    "import glob\n",
    "\n",
    "\n",
    "def get_max_patient_id(api_data_save_path):\n",
    "    files = glob.glob(os.path.join(api_data_save_path, \"*.json\"))\n",
    "\n",
    "    if files:\n",
    "        return max([int(os.path.basename(file).split('.')[0]) for file in files])z\n",
    "\n",
    "    return 0\n",
    "\n",
    "\n",
    "start_patient_id = get_max_patient_id(api_data_save_path)\n",
    "start_patient_id"
   ]
  },
  {
   "cell_type": "markdown",
   "metadata": {},
   "source": [
    "## Get data from API"
   ]
  },
  {
   "cell_type": "code",
   "execution_count": null,
   "metadata": {},
   "outputs": [],
   "source": [
    "def get_api_token(url, username, password):\n",
    "    \"\"\" Get authentication token to access to other API URLs\n",
    "\n",
    "    Parameters:\n",
    "        url (str): URL from where token is going te be pulled\n",
    "        username (str): API username\n",
    "        password (str): API password\n",
    "    \n",
    "    Returns:\n",
    "        str: API Euthentication token\n",
    "    \"\"\"\n",
    "    \n",
    "    payload = {\n",
    "        \"user\": username,\n",
    "        \"password\": password,\n",
    "    }\n",
    "    \n",
    "    response = requests.post(url, data=payload)\n",
    "    response.raise_for_status()\n",
    "    \n",
    "    return response.json()['res']"
   ]
  },
  {
   "cell_type": "code",
   "execution_count": null,
   "metadata": {},
   "outputs": [],
   "source": [
    "api_token = get_api_token(auth_url, api_username, api_password)"
   ]
  },
  {
   "cell_type": "code",
   "execution_count": null,
   "metadata": {},
   "outputs": [],
   "source": [
    "import urllib.parse\n",
    "\n",
    "\n",
    "def get_api_data(url, token, patient_id):\n",
    "    \"\"\" Get data from an specific API URL\n",
    "    \n",
    "    Parameters:\n",
    "        url (str): API url to make a GET request to get JSON data\n",
    "        token (str): Authentication token needed for the request\n",
    "        patient_id (int): The patient ABPM test ID \n",
    "\n",
    "    Returns:\n",
    "        dict: JSON data from the API \n",
    "    \"\"\"\n",
    "    \n",
    "    url = urllib.parse.urljoin(url, f\"{patient_id}/\")\n",
    "   \n",
    "    response = requests.get(\n",
    "        url,\n",
    "        headers = {\n",
    "            \"authorization\": f\"Bearer {token}\",\n",
    "        },\n",
    "    )\n",
    "\n",
    "    response.raise_for_status()\n",
    "    \n",
    "    return response.json()"
   ]
  },
  {
   "cell_type": "code",
   "execution_count": null,
   "metadata": {},
   "outputs": [],
   "source": [
    "_ = get_api_data(map_data_url, api_token, test_patient_id)\n",
    "_ = get_api_data(map_measure_url, api_token, test_patient_id)\n",
    "_ = get_api_data(map_drug_url, api_token, test_patient_id)\n",
    "_ = get_api_data(map_meta_data_url, api_token, test_patient_id)"
   ]
  },
  {
   "cell_type": "code",
   "execution_count": null,
   "metadata": {},
   "outputs": [],
   "source": [
    "import urllib.parse\n",
    "\n",
    "\n",
    "def get_complete_api_data(username, password, patient_id):\n",
    "    \"\"\" Get data, measure and drugs for an specific ABPM test\n",
    "    \n",
    "    Parameters:\n",
    "        username (str): API user name used to get API token\n",
    "        password (str): API password used to get API token\n",
    "        patient_id (int): Patient ABPM test ID to pull data from\n",
    "\n",
    "    Returns:\n",
    "        dict: JSON data pulled from API, id has the ABPM test ID.\n",
    "        Data contains the test meta data like start date, night \n",
    "        time and other importante data. Measure contains the real ABPM\n",
    "        measurements. Drugs contain the drugs taken by a patient during\n",
    "        the ABPM test.\n",
    "    \"\"\"\n",
    "    \n",
    "    token = get_api_token(auth_url, username, password)\n",
    "    \n",
    "    map_data = get_api_data(map_data_url, token, patient_id)\n",
    "    map_measure = get_api_data(map_measure_url, token, patient_id)\n",
    "    map_drugs =  get_api_data(map_drug_url, token, patient_id)\n",
    "    map_meta_data = get_api_data(map_meta_data_url, api_token, test_patient_id)\n",
    "    \n",
    "    return {\n",
    "        \"id\": patient_id,\n",
    "        \"data\": map_data,\n",
    "        \"meta_data\": map_meta_data,\n",
    "        \"measure\": map_measure,\n",
    "        \"drugs\": map_measure,\n",
    "    }"
   ]
  },
  {
   "cell_type": "code",
   "execution_count": null,
   "metadata": {},
   "outputs": [],
   "source": [
    "_ = get_complete_api_data(api_username, api_password, test_patient_id)"
   ]
  },
  {
   "cell_type": "markdown",
   "metadata": {},
   "source": [
    "## Parallelized API data collection"
   ]
  },
  {
   "cell_type": "code",
   "execution_count": null,
   "metadata": {},
   "outputs": [],
   "source": [
    "@ray.remote\n",
    "def get_complete_api_data_async(username, password, patient_id):\n",
    "    \"\"\" Wrapper for the get_complete_api_data so that it can be ran\n",
    "    in parallel and asyncrhonusly \n",
    "    \n",
    "    Parameters:\n",
    "        username (str): API user name used to get API token\n",
    "        password (str): API password used to get API token\n",
    "        patient_id (int): Patient ABPM test ID to pull data from\n",
    "\n",
    "    Returns:\n",
    "        dict: JSON data pulled from API, id has the ABPM test ID.\n",
    "        Data contains the test meta data like start date, night \n",
    "        time and other importante data. Measure contains the real ABPM\n",
    "        measurements. Drugs contain the drugs taken by a patient during\n",
    "        the ABPM test.\n",
    "    \"\"\"\n",
    "    \n",
    "    try:\n",
    "        user_data = get_complete_api_data(username, password, patient_id)\n",
    "    except requests.HTTPError as error:\n",
    "        with open(api_error_save_path, \"a+\") as file:\n",
    "            error_data = f\"ERROR -- Patient ID: {patient_id} -- {error.response.status_code} \\n\"\n",
    "            file.write(error_data)\n",
    "            \n",
    "        return None\n",
    "    \n",
    "    return user_data"
   ]
  },
  {
   "cell_type": "code",
   "execution_count": null,
   "metadata": {},
   "outputs": [],
   "source": [
    "_ = ray.get(get_complete_api_data_async.remote(api_username, api_password, test_patient_id))"
   ]
  },
  {
   "cell_type": "markdown",
   "metadata": {},
   "source": [
    "## Stop condition for API data pull"
   ]
  },
  {
   "cell_type": "code",
   "execution_count": null,
   "metadata": {},
   "outputs": [],
   "source": [
    "def list_contains_date_grater_than(patient_data_list, end_date):\n",
    "    \"\"\"\n",
    "    \n",
    "    Parameters:\n",
    "        patient_data_list (dict): List of ABPM request resonses\n",
    "        end_date (datetime): The newest date for the revelant data\n",
    "        we are pretending to get.\n",
    "\n",
    "    Returns:\n",
    "        bool: If the end_data is less than any of the start_dates of\n",
    "        the ABPM return True so that pulling data ends. Other way\n",
    "        return False so that data pull continues.\n",
    "    \"\"\"\n",
    "    \n",
    "    for map_data in patient_data_list:   \n",
    "        if map_data and map_data.get('data'):  \n",
    "            start_date = map_data['data'][0]['fecha_dt'].split(' ')[0]\n",
    "            start_date = datetime.datetime.strptime(start_date, '%Y-%m-%d')\n",
    "        else:\n",
    "            start_date = datetime.datetime.strptime(\"1900-1-1\", '%Y-%m-%d')\n",
    "                   \n",
    "        if end_date < start_date:\n",
    "            return True\n",
    "        \n",
    "    return False"
   ]
  },
  {
   "cell_type": "code",
   "execution_count": null,
   "metadata": {},
   "outputs": [],
   "source": [
    "# Test the list_contains_date_grater_than function\n",
    "\n",
    "assert list_contains_date_grater_than(\n",
    "    [{\n",
    "        'data': [\n",
    "            {\n",
    "                'fecha_dt': \"2015-1-1 03:55:21\"\n",
    "            }\n",
    "        ]\n",
    "    }],     \n",
    "    \n",
    "    datetime.datetime.strptime(\"2011-1-1\", '%Y-%m-%d')\n",
    ") == True"
   ]
  },
  {
   "cell_type": "code",
   "execution_count": null,
   "metadata": {},
   "outputs": [],
   "source": [
    "# Test the list_contains_date_grater_than function\n",
    "\n",
    "assert list_contains_date_grater_than(\n",
    "    [{\n",
    "        'data': [\n",
    "            {\n",
    "                'fecha_dt': \"2011-1-1 03:55:21\"\n",
    "            }\n",
    "        ]\n",
    "    }],     \n",
    "    \n",
    "    datetime.datetime.strptime(\"2015-1-1\", '%Y-%m-%d')\n",
    ") == False"
   ]
  },
  {
   "cell_type": "markdown",
   "metadata": {},
   "source": [
    "## Save the data from the API"
   ]
  },
  {
   "cell_type": "code",
   "execution_count": null,
   "metadata": {},
   "outputs": [],
   "source": [
    "def pull_api_data(start_patient_id, pull_data_end_date, concurrent_workers, max_consecutive_error):\n",
    "    \"\"\" Get data from API for all patients in the range start_patient_id to the first\n",
    "    patient_id whos start_date < pull_data_end_date.\n",
    "    \n",
    "    Parameters:\n",
    "        start_patient_id (int): The firts ABPM test ID from where to start pulling data\n",
    "        pull_data_end_date (datetime): The upper date cap for test to be pulled\n",
    "        concurrent_workers (int): The number of concurrent requests to be made at a single time\n",
    "        max_consecutive_error (int): The maximum number of continous errors before stoping the pulling process\n",
    "\n",
    "    Returns:\n",
    "        generator: Generates an API response for each of the users pulled at batches of size concurrent_workers\n",
    "    \"\"\"\n",
    "    \n",
    "    error_count = 0\n",
    "    finish_pulling = False\n",
    "    start_pull_index = start_patient_id\n",
    "        \n",
    "    while not finish_pulling:\n",
    "        end_pull_index = start_pull_index + concurrent_workers\n",
    "        \n",
    "        futures = [\n",
    "            get_complete_api_data_async.remote(\n",
    "                api_username,\n",
    "                api_password,\n",
    "                patient_id\n",
    "            ) for patient_id in range(start_pull_index, end_pull_index)\n",
    "        ]\n",
    "        \n",
    "        api_data = ray.get(futures)\n",
    "        \n",
    "        finish_pulling = list_contains_date_grater_than(api_data, pull_data_end_date)\n",
    "        \n",
    "        if finish_pulling: \n",
    "            break\n",
    "        \n",
    "        for id, patient_data in enumerate(api_data):\n",
    "            if patient_data and patient_data.get(\"data\"):\n",
    "                error_count = 0\n",
    "                yield patient_data\n",
    "            else:\n",
    "                error_count += 1\n",
    "                \n",
    "        if max_consecutive_error < error_count:\n",
    "            finish_pulling = True\n",
    "            \n",
    "        start_pull_index = end_pull_index"
   ]
  },
  {
   "cell_type": "code",
   "execution_count": null,
   "metadata": {},
   "outputs": [],
   "source": [
    "import json\n",
    "import time\n",
    "\n",
    "\n",
    "start_time = time.time()\n",
    "os.makedirs(api_data_save_path, exist_ok=True)\n",
    "\n",
    "for index, patient_data in enumerate(pull_api_data(start_patient_id, pull_data_end_date, concurrent_workers, max_consecutive_error)):\n",
    "    elapsed_time = time.time() - start_time\n",
    "\n",
    "    with open(os.path.join(api_data_save_path, f\"{patient_data.get('id')}.json\"), \"w+\") as file:\n",
    "        file.write(json.dumps(patient_data))\n",
    "            \n",
    "    clear_output(wait=True)\n",
    "    print(f\"Speed: {index / elapsed_time}r/s -- Elapse Time: {elapsed_time}s -- Patient Id: {patient_data.get('id')}\")"
   ]
  },
  {
   "cell_type": "markdown",
   "metadata": {},
   "source": [
    "## API Errors"
   ]
  },
  {
   "cell_type": "code",
   "execution_count": null,
   "metadata": {},
   "outputs": [],
   "source": [
    "with open(api_error_save_path, \"r+\") as file:\n",
    "    print(file.read())"
   ]
  },
  {
   "cell_type": "code",
   "execution_count": null,
   "metadata": {},
   "outputs": [],
   "source": []
  }
 ],
 "metadata": {
  "kernelspec": {
   "display_name": "Python 3",
   "language": "python",
   "name": "python3"
  },
  "language_info": {
   "codemirror_mode": {
    "name": "ipython",
    "version": 3
   },
   "file_extension": ".py",
   "mimetype": "text/x-python",
   "name": "python",
   "nbconvert_exporter": "python",
   "pygments_lexer": "ipython3",
   "version": "3.7.5"
  }
 },
 "nbformat": 4,
 "nbformat_minor": 4
}
